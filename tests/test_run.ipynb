{
 "cells": [
  {
   "cell_type": "code",
   "execution_count": 1,
   "metadata": {},
   "outputs": [
    {
     "ename": "ModuleNotFoundError",
     "evalue": "No module named 'layers'",
     "output_type": "error",
     "traceback": [
      "\u001b[1;31m---------------------------------------------------------------------------\u001b[0m",
      "\u001b[1;31mModuleNotFoundError\u001b[0m                       Traceback (most recent call last)",
      "\u001b[1;32mc:\\Users\\lawta\\Projects\\habitat-generation\\tests\\test_run.ipynb Cell 1\u001b[0m line \u001b[0;36m<module>\u001b[1;34m\u001b[0m\n\u001b[0;32m      <a href='vscode-notebook-cell:/c%3A/Users/lawta/Projects/habitat-generation/tests/test_run.ipynb#W0sZmlsZQ%3D%3D?line=2'>3</a>\u001b[0m \u001b[39mfrom\u001b[39;00m \u001b[39mscgt\u001b[39;00m \u001b[39mimport\u001b[39;00m GeoTiff\n\u001b[0;32m      <a href='vscode-notebook-cell:/c%3A/Users/lawta/Projects/habitat-generation/tests/test_run.ipynb#W0sZmlsZQ%3D%3D?line=3'>4</a>\u001b[0m sys\u001b[39m.\u001b[39mpath\u001b[39m.\u001b[39mappend(\u001b[39m\"\u001b[39m\u001b[39m..\u001b[39m\u001b[39m\"\u001b[39m)\n\u001b[1;32m----> <a href='vscode-notebook-cell:/c%3A/Users/lawta/Projects/habitat-generation/tests/test_run.ipynb#W0sZmlsZQ%3D%3D?line=5'>6</a>\u001b[0m \u001b[39mfrom\u001b[39;00m \u001b[39mecoscape_layers\u001b[39;00m\u001b[39m.\u001b[39;00m\u001b[39mlayers_runner\u001b[39;00m \u001b[39mimport\u001b[39;00m generate_layers\n\u001b[0;32m      <a href='vscode-notebook-cell:/c%3A/Users/lawta/Projects/habitat-generation/tests/test_run.ipynb#W0sZmlsZQ%3D%3D?line=6'>7</a>\u001b[0m \u001b[39mfrom\u001b[39;00m \u001b[39mecoscape_layers\u001b[39;00m\u001b[39m.\u001b[39;00m\u001b[39mconstants\u001b[39;00m \u001b[39mimport\u001b[39;00m EBIRD_INDIV_RANGE_PATH, EBIRD_INDIV_RANGE_LAYER\n\u001b[0;32m      <a href='vscode-notebook-cell:/c%3A/Users/lawta/Projects/habitat-generation/tests/test_run.ipynb#W0sZmlsZQ%3D%3D?line=7'>8</a>\u001b[0m \u001b[39mfrom\u001b[39;00m \u001b[39mconfig\u001b[39;00m \u001b[39mimport\u001b[39;00m REDLIST_KEY, EBIRD_KEY\n",
      "File \u001b[1;32mc:\\Users\\lawta\\anaconda3\\envs\\bird-mapping\\lib\\site-packages\\ecoscape_layers\\layers_runner.py:5\u001b[0m, in \u001b[0;36m<module>\u001b[1;34m\u001b[0m\n\u001b[0;32m      3\u001b[0m \u001b[39mimport\u001b[39;00m \u001b[39msys\u001b[39;00m\n\u001b[0;32m      4\u001b[0m \u001b[39mfrom\u001b[39;00m \u001b[39mscgt\u001b[39;00m \u001b[39mimport\u001b[39;00m GeoTiff\n\u001b[1;32m----> 5\u001b[0m \u001b[39mfrom\u001b[39;00m \u001b[39mlayers\u001b[39;00m \u001b[39mimport\u001b[39;00m RedList, LayerGenerator, reproject_shapefile\n\u001b[0;32m      6\u001b[0m \u001b[39mfrom\u001b[39;00m \u001b[39mconstants\u001b[39;00m \u001b[39mimport\u001b[39;00m EBIRD_INDIV_RANGE_PATH, EBIRD_INDIV_RANGE_LAYER\n\u001b[0;32m      9\u001b[0m \u001b[39mdef\u001b[39;00m \u001b[39mgenerate_layers\u001b[39m(config_path, species_list_path, terrain_path, terrain_codes_path, species_range_folder,\n\u001b[0;32m     10\u001b[0m                     output_folder, crs\u001b[39m=\u001b[39m\u001b[39mNone\u001b[39;00m, resolution\u001b[39m=\u001b[39m\u001b[39mNone\u001b[39;00m, resampling\u001b[39m=\u001b[39m\u001b[39m\"\u001b[39m\u001b[39mnear\u001b[39m\u001b[39m\"\u001b[39m, bounds\u001b[39m=\u001b[39m\u001b[39mNone\u001b[39;00m, padding\u001b[39m=\u001b[39m\u001b[39m0\u001b[39m,\n\u001b[0;32m     11\u001b[0m                     refine_method\u001b[39m=\u001b[39m\u001b[39m\"\u001b[39m\u001b[39mforest\u001b[39m\u001b[39m\"\u001b[39m):\n",
      "\u001b[1;31mModuleNotFoundError\u001b[0m: No module named 'layers'"
     ]
    }
   ],
   "source": [
    "import os\n",
    "import sys\n",
    "from scgt import GeoTiff\n",
    "sys.path.append(\"..\")\n",
    "\n",
    "from ecoscape_layers.layers_runner import generate_layers\n",
    "from ecoscape_layers.constants import EBIRD_INDIV_RANGE_PATH, EBIRD_INDIV_RANGE_LAYER\n",
    "from config import REDLIST_KEY, EBIRD_KEY"
   ]
  },
  {
   "cell_type": "code",
   "execution_count": null,
   "metadata": {},
   "outputs": [],
   "source": [
    "species_list_path = \"./inputs/test_species_list.txt\"\n",
    "terrain_path = \"./inputs/test_terrain.tif\"\n",
    "terrain_codes_path = \"./inputs/terrain_codes.csv\"\n",
    "species_range_folder = \"./inputs/ebird_ranges\"\n",
    "output_folder = \"./outputs\"\n",
    "\n",
    "crs = 'PROJCS[\"Albers_Conical_Equal_Area\",GEOGCS[\"WGS 84\",DATUM[\"WGS_1984\",SPHEROID[\"WGS 84\",6378137,298.257223563,AUTHORITY[\"EPSG\",\"7030\"]],AUTHORITY[\"EPSG\",\"6326\"]],PRIMEM[\"Greenwich\",0],UNIT[\"degree\",0.0174532925199433,AUTHORITY[\"EPSG\",\"9122\"]],AUTHORITY[\"EPSG\",\"4326\"]],PROJECTION[\"Albers_Conic_Equal_Area\"],PARAMETER[\"latitude_of_center\",23],PARAMETER[\"longitude_of_center\",-96],PARAMETER[\"standard_parallel_1\",29.5],PARAMETER[\"standard_parallel_2\",45.5],PARAMETER[\"false_easting\",0],PARAMETER[\"false_northing\",0],UNIT[\"metre\",1,AUTHORITY[\"EPSG\",\"9001\"]],AXIS[\"Easting\",EAST],AXIS[\"Northing\",NORTH]]'\n",
    "resolution = 300\n",
    "resampling = \"near\"\n",
    "bounds = (-2214130.5469038677401841, 2459449.2663429058156908, -2174930.5469038677401841, 2504349.2663429058156908)\n",
    "padding = 10000\n",
    "\n",
    "refine_method = \"forest\""
   ]
  },
  {
   "cell_type": "code",
   "execution_count": null,
   "metadata": {},
   "outputs": [],
   "source": [
    "# Define eBird-specific range map path and gpkg layer.\n",
    "indiv_range_path = os.path.join(species_range_folder, EBIRD_INDIV_RANGE_PATH)\n",
    "indiv_range_layer = EBIRD_INDIV_RANGE_LAYER\n",
    "\n",
    "terrain_path = os.path.abspath(terrain_path)\n",
    "terrain_codes_path = os.path.abspath(terrain_codes_path)"
   ]
  },
  {
   "cell_type": "code",
   "execution_count": null,
   "metadata": {},
   "outputs": [],
   "source": [
    "generate_layers(\"config.py\", species_list_path, terrain_path, terrain_codes_path, species_range_folder,\n",
    "                    output_folder, crs, resolution, resampling, bounds, padding,\n",
    "                    refine_method"
   ]
  },
  {
   "cell_type": "code",
   "execution_count": 14,
   "metadata": {},
   "outputs": [],
   "source": [
    "# Get the list of bird species from species_list_path.\n",
    "with open(species_list_path) as file:\n",
    "    species_list = file.read().splitlines()\n",
    "\n",
    "# Generate output folder.\n",
    "if not os.path.exists(output_folder):\n",
    "    os.makedirs(output_folder)\n",
    "\n",
    "# Generate species output folders.\n",
    "for species in species_list:\n",
    "    species_output_folder = os.path.join(output_folder, species)\n",
    "    if not os.path.exists(species_output_folder):\n",
    "        os.makedirs(species_output_folder)"
   ]
  },
  {
   "cell_type": "code",
   "execution_count": 15,
   "metadata": {},
   "outputs": [],
   "source": [
    "redlist = RedList(REDLIST_KEY, EBIRD_KEY)\n",
    "layer_generator = LayerGenerator(terrain_path, terrain_codes_path, crs, resolution, resampling,\n",
    "                                     bounds, padding)"
   ]
  },
  {
   "cell_type": "code",
   "execution_count": 18,
   "metadata": {},
   "outputs": [
    {
     "name": "stdout",
     "output_type": "stream",
     "text": [
      "A new terrain layer has already been generated before. Generation will proceed with the original terrain that was inputted on initialization, which may overwrite any previously generated terrain layers.\n"
     ]
    }
   ],
   "source": [
    "# Generate terrain layer.\n",
    "layer_generator.generate_terrain()"
   ]
  },
  {
   "cell_type": "code",
   "execution_count": 7,
   "metadata": {},
   "outputs": [],
   "source": [
    "# Obtain species habitat information from the IUCN Red List.\n",
    "species_data = []\n",
    "\n",
    "for species in species_list:\n",
    "    sci_name = redlist.get_scientific_name(species)\n",
    "    habs = redlist.get_habitats(sci_name)\n",
    "    \n",
    "    if len(habs) == 0:\n",
    "        print(\"Skipping\", species, \"due to not finding info on IUCN Red List (perhaps a name mismatch with eBird)?\")\n",
    "        continue\n",
    "    else:\n",
    "        species_data.append({\n",
    "            \"name\": species,\n",
    "            \"sci_name\": sci_name,\n",
    "            \"habitats\": habs\n",
    "        })"
   ]
  },
  {
   "cell_type": "code",
   "execution_count": 8,
   "metadata": {},
   "outputs": [],
   "source": [
    "# Download species ranges as shapefiles from eBird.\n",
    "layer_generator.get_ranges_from_ebird(species_list_path, species_range_folder)"
   ]
  },
  {
   "cell_type": "code",
   "execution_count": 9,
   "metadata": {},
   "outputs": [],
   "source": [
    "# Create the resistance table for each species.\n",
    "all_map_codes = layer_generator.get_map_codes()\n",
    "for species in species_data:\n",
    "    code = species[\"name\"]\n",
    "    resistance_output_path = os.path.join(output_folder, code, f\"{code}_resistance.csv\")\n",
    "    layer_generator.generate_resistance_table(species[\"habitats\"], all_map_codes, resistance_output_path)"
   ]
  },
  {
   "cell_type": "code",
   "execution_count": 10,
   "metadata": {},
   "outputs": [],
   "source": [
    "# Perform the intersection between the range and habitable terrain.\n",
    "with GeoTiff.from_file(layer_generator.terrain_path) as ter:\n",
    "    resolution = int(ter.dataset.transform[0])\n",
    "    \n",
    "    for species in species_data:\n",
    "        if species == \"\":\n",
    "            break\n",
    "\n",
    "        code = species[\"name\"]\n",
    "        habitats = species[\"habitats\"]\n",
    "\n",
    "        if not os.path.isfile(indiv_range_path.format(code=code)):\n",
    "            print(\"Skipping {code}, no associated range map found\".format(code=code))\n",
    "            continue\n",
    "\n",
    "        range_shapes = reproject_shapefile(\n",
    "            shapes_path=indiv_range_path.format(code=code),\n",
    "            dest_crs=crs,\n",
    "            shapes_layer=indiv_range_layer\n",
    "        )\n",
    "\n",
    "        if len(range_shapes) == 1:\n",
    "            # Not a seasonal bird\n",
    "            path = os.path.join(output_folder, code, f\"habitat_2020_{resolution}_{resampling}_{refine_method}.tif\")\n",
    "            layer_generator.refine_habitat(ter, habitats=habitats, shapes=range_shapes[0], output_path=path, refine_method=refine_method)\n",
    "        else:\n",
    "            # Seasonal bird, different output for each shape\n",
    "            for s in range_shapes:\n",
    "                season = str(s[\"properties\"][\"season\"])\n",
    "                path = os.path.join(output_folder, code, f\"{season}_habitat_2020_{resolution}_{resampling}_{refine_method}.tif\")\n",
    "                layer_generator.refine_habitat(ter, habitats=habitats, shapes=s, output_path=path, refine_method=refine_method)"
   ]
  }
 ],
 "metadata": {
  "kernelspec": {
   "display_name": "venv37",
   "language": "python",
   "name": "python3"
  },
  "language_info": {
   "codemirror_mode": {
    "name": "ipython",
    "version": 3
   },
   "file_extension": ".py",
   "mimetype": "text/x-python",
   "name": "python",
   "nbconvert_exporter": "python",
   "pygments_lexer": "ipython3",
   "version": "3.9.13"
  },
  "orig_nbformat": 4,
  "vscode": {
   "interpreter": {
    "hash": "788fc90b81460290997b965a508edfe8951a7807de397369836e3df353490b1b"
   }
  }
 },
 "nbformat": 4,
 "nbformat_minor": 2
}
