{
 "cells": [
  {
   "cell_type": "code",
   "execution_count": 2,
   "metadata": {},
   "outputs": [],
   "source": [
    "import os\n",
    "from ecoscape_layers import LayerGenerator, warp"
   ]
  },
  {
   "cell_type": "code",
   "execution_count": 5,
   "metadata": {},
   "outputs": [],
   "source": [
    "DATA_PATH = \"..\""
   ]
  },
  {
   "cell_type": "code",
   "execution_count": 4,
   "metadata": {},
   "outputs": [],
   "source": [
    "REDLIST_KEY = input(\"IUCN Red List API key: \")\n",
    "EBIRD_KEY = input(\"EBird API key: \")\n",
    "\n",
    "# Set this path to point to the global Jung et al. landcover layer\n",
    "landcover_fn = os.path.join(DATA_PATH, \"inputs\", \"iucn_habitatclassification_composite_lvl2_ver004.tif\")\n",
    "\n",
    "# Set this path to IUCN's bird range data: http://datazone.birdlife.org/species/requestdis\n",
    "# You can set this to None if you choose to use only the eBird range maps.\n",
    "iucn_range_src = os.path.join(DATA_PATH, \"inputs\", \"BOTW.gdb\")"
   ]
  },
  {
   "cell_type": "markdown",
   "metadata": {},
   "source": [
    "In the following code, we generate the habitat and terrain for the Pileated Woodpecker across the United States."
   ]
  },
  {
   "cell_type": "code",
   "execution_count": 24,
   "metadata": {},
   "outputs": [],
   "source": [
    "# REQUIRED INPUTS\n",
    "\n",
    "species_list = [\"pilwoo\"]\n",
    "out_landcover_fn = os.path.join(DATA_PATH, \"outputs\", \"us_terrain.tif\")\n",
    "\n",
    "# OPTIONAL INPUTS\n",
    "\n",
    "# This projection is applicable to the contiguous United States.\n",
    "crs = '''\n",
    "PROJCS[\"USA_Contiguous_Albers_Equal_Area_Conic\",\n",
    "    GEOGCS[\"GCS_North_American_1983\",\n",
    "        DATUM[\"D_North_American_1983\",\n",
    "            SPHEROID[\"GRS_1980\",6378137.0,298.257222101]],\n",
    "        PRIMEM[\"Greenwich\",0.0],\n",
    "        UNIT[\"Degree\",0.0174532925199433]],\n",
    "    PROJECTION[\"Albers\"],\n",
    "    PARAMETER[\"False_Easting\",0.0],\n",
    "    PARAMETER[\"False_Northing\",0.0],\n",
    "    PARAMETER[\"Central_Meridian\",-96.0],\n",
    "    PARAMETER[\"Standard_Parallel_1\",29.5],\n",
    "    PARAMETER[\"Standard_Parallel_2\",45.5],\n",
    "    PARAMETER[\"Latitude_Of_Origin\",37.5],\n",
    "    UNIT[\"Meter\",1.0]]\n",
    "'''\n",
    "resolution = 300\n",
    "resampling = \"near\"\n",
    "bounds = (-2361582.2755981818772852, -1354601.2291806936264038, 2263786.1910862834192812, 1570638.9576217615976930)\n",
    "padding = 100000"
   ]
  },
  {
   "cell_type": "code",
   "execution_count": 25,
   "metadata": {},
   "outputs": [
    {
     "name": "stdout",
     "output_type": "stream",
     "text": [
      "Habitat layer successfully generated for pilwoo\n"
     ]
    }
   ],
   "source": [
    "# Process the landcover first.\n",
    "warp(landcover_fn, out_landcover_fn, crs, resolution, bounds, padding, resampling)\n",
    "\n",
    "# Initialize layer generator.\n",
    "layer_generator = LayerGenerator(REDLIST_KEY, EBIRD_KEY, out_landcover_fn)\n",
    "\n",
    "# Then run the habitat layer generation process for each bird species.\n",
    "for species_code in species_list:\n",
    "    habitat_fn = os.path.join(DATA_PATH, \"outputs\", species_code, \"habitat.tif\")\n",
    "    resistance_dict_fn = os.path.join(DATA_PATH, \"outputs\", species_code, \"resistance.csv\")\n",
    "    range_fn = os.path.join(DATA_PATH, \"outputs\", species_code, \"range_map_2022.gpkg\")\n",
    "    range_src = \"ebird\"\n",
    "    refine_method = \"forest\"\n",
    "\n",
    "    layer_generator.generate_habitat(species_code, habitat_fn, resistance_dict_fn, range_fn, range_src, refine_method)"
   ]
  },
  {
   "cell_type": "markdown",
   "metadata": {},
   "source": [
    "We now generate habitat and terrain for the Acorn Woodpecker similarly, but for an extent that spans the United States and Mexico."
   ]
  },
  {
   "cell_type": "code",
   "execution_count": 6,
   "metadata": {},
   "outputs": [],
   "source": [
    "# REQUIRED INPUTS\n",
    "\n",
    "species_list = [\"acowoo\"]\n",
    "out_landcover_fn = os.path.join(DATA_PATH, \"outputs\", \"us_mexico_terrain.tif\")\n",
    "\n",
    "# OPTIONAL INPUTS\n",
    "\n",
    "# This projection is modified from the previous one to be used for the US and Mexico.\n",
    "crs = '''\n",
    "PROJCS[\"Albers_US_Mexico\",\n",
    "    GEOGCS[\"GCS_North_American_1983\",\n",
    "        DATUM[\"D_North_American_1983\",\n",
    "            SPHEROID[\"GRS_1980\",6378137.0,298.257222101]],\n",
    "        PRIMEM[\"Greenwich\",0.0],\n",
    "        UNIT[\"Degree\",0.0174532925199433]],\n",
    "    PROJECTION[\"Albers\"],\n",
    "    PARAMETER[\"False_Easting\",0.0],\n",
    "    PARAMETER[\"False_Northing\",0.0],\n",
    "    PARAMETER[\"Central_Meridian\",-96.0],\n",
    "    PARAMETER[\"Standard_Parallel_1\",20.34],\n",
    "    PARAMETER[\"Standard_Parallel_2\",43.57],\n",
    "    PARAMETER[\"Latitude_Of_Origin\",31.955],\n",
    "    UNIT[\"Meter\",1.0]]\n",
    "'''\n",
    "resolution = 300\n",
    "resampling = \"near\"\n",
    "bounds = (-2365546.2319482644088566, -1932573.0506286544, 2289506.8540614326484501, 2156960.3359509995207191)\n",
    "padding = 100000"
   ]
  },
  {
   "cell_type": "code",
   "execution_count": 7,
   "metadata": {},
   "outputs": [
    {
     "name": "stderr",
     "output_type": "stream",
     "text": [
      "c:\\Users\\lawta\\anaconda3\\envs\\birds\\Lib\\site-packages\\osgeo\\gdal.py:312: FutureWarning: Neither gdal.UseExceptions() nor gdal.DontUseExceptions() has been explicitly called. In GDAL 4.0, exceptions will be enabled by default.\n",
      "  warnings.warn(\n"
     ]
    },
    {
     "name": "stdout",
     "output_type": "stream",
     "text": [
      "Habitat layer successfully generated for acowoo\n"
     ]
    }
   ],
   "source": [
    "# Process the landcover first.\n",
    "warp(landcover_fn, out_landcover_fn, crs, resolution, bounds, padding, resampling)\n",
    "\n",
    "# Initialize layer generator.\n",
    "layer_generator = LayerGenerator(REDLIST_KEY, EBIRD_KEY, out_landcover_fn)\n",
    "\n",
    "# Then run the habitat layer generation process for each bird species.\n",
    "for species_code in species_list:\n",
    "    habitat_fn = os.path.join(DATA_PATH, \"outputs\", species_code, \"habitat.tif\")\n",
    "    resistance_dict_fn = os.path.join(DATA_PATH, \"outputs\", species_code, \"resistance.csv\")\n",
    "    range_fn = os.path.join(DATA_PATH, \"outputs\", species_code, \"range_map_2022.gpkg\")\n",
    "    range_src = \"ebird\"\n",
    "    refine_method = \"forest_add308\"\n",
    "\n",
    "    layer_generator.generate_habitat(species_code, habitat_fn, resistance_dict_fn, range_fn, range_src, refine_method)"
   ]
  },
  {
   "cell_type": "markdown",
   "metadata": {},
   "source": [
    "Finally, we generate habitats and terrain for several bird species in the Rio de Janeiro region:\n",
    "- White-bibbed Antbird (whbant4)\n",
    "- Hooded Berryeater (hoober2)\n",
    "- Rio de Janeiro Antbird (rdjant1)\n",
    "- Pin-tailed Manakin (pitman1)\n",
    "- Saffron Toucanet (saftou2)\n",
    "\n",
    "Because eBird Status and Trends does not provide range map data for these birds, we use IUCN range map data instead. The IUCN range map data can be requested [here](http://datazone.birdlife.org/species/requestdis)."
   ]
  },
  {
   "cell_type": "code",
   "execution_count": 8,
   "metadata": {},
   "outputs": [],
   "source": [
    "# REQUIRED INPUTS\n",
    "\n",
    "species_list = [\"whbant4\", \"hoober2\", \"rdjant1\", \"pitman1\", \"saftou2\"]\n",
    "out_landcover_fn = os.path.join(DATA_PATH, \"outputs\", \"rio_de_janeiro_terrain.tif\")\n",
    "\n",
    "# OPTIONAL INPUTS\n",
    "\n",
    "# This projection is roughly centered around the Rio de Janeiro region.\n",
    "crs = '''\n",
    "PROJCS[\"Albers_Rio_de_Janeiro\",\n",
    "    GEOGCS[\"GCS_North_American_1983\",\n",
    "        DATUM[\"D_North_American_1983\",\n",
    "            SPHEROID[\"GRS_1980\",6378137.0,298.257222101]],\n",
    "        PRIMEM[\"Greenwich\",0.0],\n",
    "        UNIT[\"Degree\",0.0174532925199433]],\n",
    "    PROJECTION[\"Albers\"],\n",
    "    PARAMETER[\"False_Easting\",0.0],\n",
    "    PARAMETER[\"False_Northing\",0.0],\n",
    "    PARAMETER[\"Central_Meridian\",-42.88],\n",
    "    PARAMETER[\"Standard_Parallel_1\",-24.56],\n",
    "    PARAMETER[\"Standard_Parallel_2\",-19.56],\n",
    "    PARAMETER[\"Latitude_Of_Origin\",-22.07],\n",
    "    UNIT[\"Meter\",1.0]]\n",
    "'''\n",
    "resolution = 300\n",
    "resampling = \"near\"\n",
    "bounds = (-205414.97243820442, -144968.97394524177, 199414.99604955647, 144425.33243957412)\n",
    "padding = 100000"
   ]
  },
  {
   "cell_type": "code",
   "execution_count": 9,
   "metadata": {},
   "outputs": [
    {
     "name": "stdout",
     "output_type": "stream",
     "text": [
      "Habitat layer successfully generated for whbant4\n",
      "Habitat layer successfully generated for hoober2\n",
      "Habitat layer successfully generated for rdjant1\n",
      "Habitat layer successfully generated for pitman1\n",
      "Habitat layer successfully generated for saftou2\n"
     ]
    }
   ],
   "source": [
    "warp(landcover_fn, out_landcover_fn, crs, resolution, bounds, padding, resampling)\n",
    "\n",
    "# Note that we pass in the IUCN file containing a compilation of bird species ranges in order\n",
    "# to use the IUCN range maps; eBird doesn't provide range maps for these non-US species.\n",
    "layer_generator = LayerGenerator(REDLIST_KEY, EBIRD_KEY, out_landcover_fn, iucn_range_src=iucn_range_src)\n",
    "\n",
    "for species_code in species_list:\n",
    "    habitat_fn = os.path.join(DATA_PATH, \"outputs\", species_code, \"habitat.tif\")\n",
    "    resistance_dict_fn = os.path.join(DATA_PATH, \"outputs\", species_code, \"resistance.csv\")\n",
    "    range_fn = os.path.join(DATA_PATH, \"outputs\", species_code, \"iucn_range.shp\")\n",
    "    range_src = \"iucn\"\n",
    "    refine_method = \"forest\"\n",
    "\n",
    "    layer_generator.generate_habitat(species_code, habitat_fn, resistance_dict_fn, range_fn, range_src, refine_method)"
   ]
  }
 ],
 "metadata": {
  "kernelspec": {
   "display_name": "venv37",
   "language": "python",
   "name": "python3"
  },
  "language_info": {
   "codemirror_mode": {
    "name": "ipython",
    "version": 3
   },
   "file_extension": ".py",
   "mimetype": "text/x-python",
   "name": "python",
   "nbconvert_exporter": "python",
   "pygments_lexer": "ipython3",
   "version": "3.12.2"
  },
  "orig_nbformat": 4,
  "vscode": {
   "interpreter": {
    "hash": "788fc90b81460290997b965a508edfe8951a7807de397369836e3df353490b1b"
   }
  }
 },
 "nbformat": 4,
 "nbformat_minor": 2
}
