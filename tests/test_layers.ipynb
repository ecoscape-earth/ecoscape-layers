{
 "cells": [
  {
   "cell_type": "code",
   "execution_count": 1,
   "metadata": {},
   "outputs": [],
   "source": [
    "import os\n",
    "import sys\n",
    "sys.path.append('..')\n",
    "from ecoscape_layers import LayerGenerator\n",
    "from ecoscape_layers.utils import warp"
   ]
  },
  {
   "cell_type": "code",
   "execution_count": 2,
   "metadata": {},
   "outputs": [],
   "source": [
    "DATA_PATH = \".\""
   ]
  },
  {
   "cell_type": "code",
   "execution_count": 9,
   "metadata": {},
   "outputs": [],
   "source": [
    "# REQUIRED INPUTS\n",
    "\n",
    "REDLIST_KEY = input(\"IUCN Red List API key: \")\n",
    "EBIRD_KEY = input(\"EBird API key: \")\n",
    "\n",
    "species_list = [\"acowoo\", \"stejay\"]\n",
    "landcover_path = os.path.join(DATA_PATH, \"inputs\", \"test_terrain.tif\")\n",
    "out_landcover_path = os.path.join(DATA_PATH, \"outputs\", \"test_terrain_out.tif\")\n",
    "\n",
    "# OPTIONAL INPUTS\n",
    "\n",
    "crs = '''\n",
    "PROJCS[\"USA_Contiguous_Albers_Equal_Area_Conic\",\n",
    "    GEOGCS[\"GCS_North_American_1983\",\n",
    "        DATUM[\"D_North_American_1983\",\n",
    "            SPHEROID[\"GRS_1980\",6378137.0,298.257222101]],\n",
    "        PRIMEM[\"Greenwich\",0.0],\n",
    "        UNIT[\"Degree\",0.0174532925199433]],\n",
    "    PROJECTION[\"Albers\"],\n",
    "    PARAMETER[\"False_Easting\",0.0],\n",
    "    PARAMETER[\"False_Northing\",0.0],\n",
    "    PARAMETER[\"Central_Meridian\",-96.0],\n",
    "    PARAMETER[\"Standard_Parallel_1\",29.5],\n",
    "    PARAMETER[\"Standard_Parallel_2\",45.5],\n",
    "    PARAMETER[\"Latitude_Of_Origin\",37.5],\n",
    "    UNIT[\"Meter\",1.0]]\n",
    "'''\n",
    "resolution = 300\n",
    "resampling = \"near\"\n",
    "bounds = (-2169323, 608763, -2156868, 615750)\n",
    "padding = 0"
   ]
  },
  {
   "cell_type": "code",
   "execution_count": 10,
   "metadata": {},
   "outputs": [],
   "source": [
    "# Reproject landcover, then initialize LayerGenerator instance.\n",
    "warp(landcover_path, out_landcover_path, crs, resolution, bounds, padding, resampling)\n",
    "layer_generator = LayerGenerator(REDLIST_KEY, EBIRD_KEY, out_landcover_path)"
   ]
  },
  {
   "cell_type": "code",
   "execution_count": 11,
   "metadata": {},
   "outputs": [
    {
     "name": "stdout",
     "output_type": "stream",
     "text": [
      "Habitat layer successfully generated for acowoo\n",
      "Habitat layer successfully generated for stejay\n"
     ]
    }
   ],
   "source": [
    "# Run the habitat layer generation process for each bird species.\n",
    "for species_code in species_list:\n",
    "    habitat_fn = os.path.join(DATA_PATH, \"outputs\", species_code, \"habitat_test.tif\")\n",
    "    resistance_dict_fn = os.path.join(DATA_PATH, \"outputs\", species_code, \"resistance_test.csv\")\n",
    "    range_fn = os.path.join(DATA_PATH, \"outputs\", species_code, \"range_map_2022.gpkg\")\n",
    "    range_src = \"ebird\"\n",
    "\n",
    "    if species_code == \"acowoo\":\n",
    "        refine_method = \"forest_add308\"\n",
    "    else:\n",
    "        refine_method = \"forest\"\n",
    "\n",
    "    layer_generator.generate_habitat(species_code, habitat_fn, resistance_dict_fn, range_fn, range_src, refine_method)"
   ]
  }
 ],
 "metadata": {
  "kernelspec": {
   "display_name": "venv37",
   "language": "python",
   "name": "python3"
  },
  "language_info": {
   "codemirror_mode": {
    "name": "ipython",
    "version": 3
   },
   "file_extension": ".py",
   "mimetype": "text/x-python",
   "name": "python",
   "nbconvert_exporter": "python",
   "pygments_lexer": "ipython3",
   "version": "3.12.2"
  },
  "orig_nbformat": 4,
  "vscode": {
   "interpreter": {
    "hash": "788fc90b81460290997b965a508edfe8951a7807de397369836e3df353490b1b"
   }
  }
 },
 "nbformat": 4,
 "nbformat_minor": 2
}
