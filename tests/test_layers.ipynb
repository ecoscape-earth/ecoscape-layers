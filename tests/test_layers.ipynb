{
 "cells": [
  {
   "cell_type": "code",
   "execution_count": 7,
   "metadata": {},
   "outputs": [],
   "source": [
    "# REQUIRED INPUTS\n",
    "REDLIST_KEY = input(\"IUCN Red List API key: \")\n",
    "EBIRD_KEY = input(\"EBird API key: \")"
   ]
  },
  {
   "cell_type": "code",
   "execution_count": 3,
   "metadata": {},
   "outputs": [],
   "source": [
    "import os\n",
    "from ecoscape_layers import (\n",
    "    LayerGenerator,\n",
    "    warp,\n",
    "    RedList,\n",
    "    generate_resistance_table,\n",
    "    in_habs,\n",
    "    default_refinement_method,\n",
    ")"
   ]
  },
  {
   "cell_type": "code",
   "execution_count": 4,
   "metadata": {},
   "outputs": [],
   "source": [
    "DATA_PATH = \".\""
   ]
  },
  {
   "cell_type": "code",
   "execution_count": 5,
   "metadata": {},
   "outputs": [],
   "source": [
    "# Birds\n",
    "species_list = [\"acowoo\", \"stejay\"]\n",
    "\n",
    "# Paths\n",
    "landcover_fn = os.path.join(DATA_PATH, \"inputs\", \"test_terrain.tif\")\n",
    "out_landcover_fn = os.path.join(DATA_PATH, \"outputs\", \"test_terrain_out.tif\")\n",
    "os.makedirs(os.path.dirname(out_landcover_fn), exist_ok=True)\n",
    "\n",
    "# OPTIONAL INPUTS\n",
    "crs = '''\n",
    "PROJCS[\"WGS_1984_Web_Mercator_Auxiliary_Sphere\",GEOGCS[\"GCS_WGS_1984\",DATUM[\"D_WGS_1984\",SPHEROID[\"WGS_1984\",6378137.0,298.257223563]],PRIMEM[\"Greenwich\",0.0],UNIT[\"Degree\",0.0174532925199433]],PROJECTION[\"Mercator_Auxiliary_Sphere\"],PARAMETER[\"False_Easting\",0.0],PARAMETER[\"False_Northing\",0.0],PARAMETER[\"Central_Meridian\",0.0],PARAMETER[\"Standard_Parallel_1\",0.0],PARAMETER[\"Auxiliary_Sphere_Type\",0.0],UNIT[\"Meter\",1.0]]\n",
    "'''\n",
    "resolution = 300\n",
    "resampling = \"near\"\n",
    "bounds = (-2169323, 608763, -2156868, 615750)\n",
    "padding = 0"
   ]
  },
  {
   "cell_type": "code",
   "execution_count": 5,
   "metadata": {},
   "outputs": [],
   "source": [
    "# Reproject landcover, then initialize LayerGenerator instance.\n",
    "warp(landcover_fn, out_landcover_fn, crs, resolution, bounds, padding, resampling)\n",
    "layer_generator = LayerGenerator(out_landcover_fn, REDLIST_KEY, EBIRD_KEY)\n",
    "redlist = RedList(REDLIST_KEY, EBIRD_KEY)"
   ]
  },
  {
   "cell_type": "code",
   "execution_count": 6,
   "metadata": {},
   "outputs": [],
   "source": [
    "# Run the habitat layer generation process for each bird species.\n",
    "for species_code in species_list:\n",
    "    habitat_fn = os.path.join(DATA_PATH, \"outputs\", species_code, \"habitat_test.tif\")\n",
    "    resistance_dict_fn = os.path.join(DATA_PATH, \"outputs\", species_code, \"resistance_test.csv\")\n",
    "    range_fn = os.path.join(DATA_PATH, \"outputs\", species_code, \"range_map_2022.gpkg\")\n",
    "    range_src = \"ebird\"\n",
    "\n",
    "    # get IUCN Redlist Habitat data\n",
    "    habitat_data = redlist.get_habitat_data(species_code, ebird_code=True if range_src == \"ebird\" else False)\n",
    "\n",
    "    # add a custom habitat if acowoo\n",
    "    if species_code == \"acowoo\":\n",
    "        habitat_data[308] = {\n",
    "            \"code\": \"3.8\",\n",
    "            \"habitat\": \"Shrubland - Mediterranean-type shrubby vegetation\",\n",
    "            \"suitability\": True,\n",
    "            \"season\": \"Resident\",\n",
    "            \"majorimportance\": True,\n",
    "        }\n",
    "\n",
    "    # define the refinement methods\n",
    "    def forest_refinement_method(map_code: int, habitats: dict[int, dict[str, str | bool]]) -> float:\n",
    "        if in_habs(map_code, [\"forest\"] + ([308] if species_code == \"acowoo\" else [])):\n",
    "            return 0.0\n",
    "        return default_refinement_method(map_code, habitats)\n",
    "\n",
    "    # create the resistance csv\n",
    "    generate_resistance_table(habitat_data, resistance_dict_fn, refinement_method=forest_refinement_method)\n",
    "\n",
    "    # define the overrides for what is current habitat\n",
    "    cur_hab = [\"forest\"] + ([308] if species_code == \"acowoo\" else [])\n",
    "\n",
    "    # create the habitat layer\n",
    "    layer_generator.generate_habitat(\n",
    "        species_code,\n",
    "        habitat_data,\n",
    "        habitat_fn,\n",
    "        range_fn,\n",
    "        range_src,\n",
    "        current_hab_overrides=cur_hab,\n",
    "    )"
   ]
  }
 ],
 "metadata": {
  "kernelspec": {
   "display_name": "venv37",
   "language": "python",
   "name": "python3"
  },
  "language_info": {
   "codemirror_mode": {
    "name": "ipython",
    "version": 3
   },
   "file_extension": ".py",
   "mimetype": "text/x-python",
   "name": "python",
   "nbconvert_exporter": "python",
   "pygments_lexer": "ipython3",
   "version": "3.11.9"
  },
  "orig_nbformat": 4,
  "vscode": {
   "interpreter": {
    "hash": "788fc90b81460290997b965a508edfe8951a7807de397369836e3df353490b1b"
   }
  }
 },
 "nbformat": 4,
 "nbformat_minor": 2
}
