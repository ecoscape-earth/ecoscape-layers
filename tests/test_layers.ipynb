{
 "cells": [
  {
   "cell_type": "code",
   "execution_count": 1,
   "metadata": {},
   "outputs": [],
   "source": [
    "import sys\n",
    "import os\n",
    "sys.path.append(\"..\")\n",
    "from ecoscape_layers import LayerGenerator"
   ]
  },
  {
   "cell_type": "code",
   "execution_count": 2,
   "metadata": {},
   "outputs": [],
   "source": [
    "DATA_PATH = \".\""
   ]
  },
  {
   "cell_type": "code",
   "execution_count": 3,
   "metadata": {},
   "outputs": [],
   "source": [
    "# REQUIRED INPUTS\n",
    "\n",
    "REDLIST_KEY = input(\"IUCN Red List API key: \")\n",
    "EBIRD_KEY = input(\"EBird API key: \")\n",
    "\n",
    "species_list = [\"acowoo\", \"stejay\", \"oaktit\"]\n",
    "landcover_path = os.path.join(DATA_PATH, \"inputs\", \"test_terrain.tif\")\n",
    "\n",
    "# OPTIONAL INPUTS\n",
    "\n",
    "crs = 'PROJCS[\"Albers_Conical_Equal_Area\",GEOGCS[\"WGS 84\",DATUM[\"WGS_1984\",SPHEROID[\"WGS 84\",6378137,298.257223563,AUTHORITY[\"EPSG\",\"7030\"]],AUTHORITY[\"EPSG\",\"6326\"]],PRIMEM[\"Greenwich\",0],UNIT[\"degree\",0.0174532925199433,AUTHORITY[\"EPSG\",\"9122\"]],AUTHORITY[\"EPSG\",\"4326\"]],PROJECTION[\"Albers_Conic_Equal_Area\"],PARAMETER[\"latitude_of_center\",23],PARAMETER[\"longitude_of_center\",-96],PARAMETER[\"standard_parallel_1\",29.5],PARAMETER[\"standard_parallel_2\",45.5],PARAMETER[\"false_easting\",0],PARAMETER[\"false_northing\",0],UNIT[\"metre\",1,AUTHORITY[\"EPSG\",\"9001\"]],AXIS[\"Easting\",EAST],AXIS[\"Northing\",NORTH]]'\n",
    "resolution = 300\n",
    "resampling = \"near\"\n",
    "bounds = (-2214130.5469038677401841, 2459449.2663429058156908, -2174930.5469038677401841, 2504349.2663429058156908)\n",
    "padding = 10000\n",
    "\n",
    "refine_method = \"forest\""
   ]
  },
  {
   "cell_type": "code",
   "execution_count": 4,
   "metadata": {},
   "outputs": [],
   "source": [
    "# Initialize LayerGenerator instance.\n",
    "layer_generator = LayerGenerator(REDLIST_KEY, EBIRD_KEY, landcover_path, crs, resolution, resampling, bounds, padding)"
   ]
  },
  {
   "cell_type": "code",
   "execution_count": 6,
   "metadata": {},
   "outputs": [
    {
     "name": "stdout",
     "output_type": "stream",
     "text": [
      "Landcover already meets the desired parameters\n",
      "Habitat layer successfully generated for acowoo\n",
      "Habitat layer successfully generated for stejay\n",
      "Habitat layer successfully generated for chbchi\n"
     ]
    }
   ],
   "source": [
    "# Process the landcover first, which is shared between the bird species.\n",
    "layer_generator.process_landcover()\n",
    "\n",
    "# Then run the habitat layer generation process for each bird species.\n",
    "for species_code in species_list:\n",
    "    habitat_fn = os.path.join(DATA_PATH, \"outputs\", species_code, \"habitat.tif\")\n",
    "    resistance_dict_fn = os.path.join(DATA_PATH, \"outputs\", species_code, \"resistance.csv\")\n",
    "    range_fn = os.path.join(DATA_PATH, \"outputs\", species_code, \"range_map_2020.gpkg\")\n",
    "\n",
    "    if species_code == \"acowoo\" or species_code == \"oaktit\":\n",
    "        refine_method = \"forest_add308\"\n",
    "    else:\n",
    "        refine_method = \"forest\"\n",
    "\n",
    "    layer_generator.generate_habitat(species_code, habitat_fn, resistance_dict_fn, range_fn, refine_method)"
   ]
  }
 ],
 "metadata": {
  "kernelspec": {
   "display_name": "venv37",
   "language": "python",
   "name": "python3"
  },
  "language_info": {
   "codemirror_mode": {
    "name": "ipython",
    "version": 3
   },
   "file_extension": ".py",
   "mimetype": "text/x-python",
   "name": "python",
   "nbconvert_exporter": "python",
   "pygments_lexer": "ipython3",
   "version": "3.9.13"
  },
  "orig_nbformat": 4,
  "vscode": {
   "interpreter": {
    "hash": "788fc90b81460290997b965a508edfe8951a7807de397369836e3df353490b1b"
   }
  }
 },
 "nbformat": 4,
 "nbformat_minor": 2
}
