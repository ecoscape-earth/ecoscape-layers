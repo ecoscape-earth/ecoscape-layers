{
 "cells": [
  {
   "cell_type": "code",
   "execution_count": 1,
   "metadata": {},
   "outputs": [],
   "source": [
    "from ecoscape_layers.layers import generate_layers"
   ]
  },
  {
   "cell_type": "code",
   "execution_count": 2,
   "metadata": {},
   "outputs": [],
   "source": [
    "config_path = \"config.py\"\n",
    "species_list_path = \"../inputs/species_list.txt\"\n",
    "terrain_path = \"../inputs/iucn_habclass_lvl2_us.tif\"\n",
    "terrain_codes_path = \"../inputs/iucn_habclass_lvl2_us_mapcodes.csv\"\n",
    "species_range_folder = \"../inputs/ebird_ranges\"\n",
    "output_folder = \"../outputs\"\n",
    "\n",
    "crs = 'PROJCS[\"Albers_Conical_Equal_Area\",GEOGCS[\"WGS 84\",DATUM[\"WGS_1984\",SPHEROID[\"WGS 84\",6378137,298.257223563,AUTHORITY[\"EPSG\",\"7030\"]],AUTHORITY[\"EPSG\",\"6326\"]],PRIMEM[\"Greenwich\",0],UNIT[\"degree\",0.0174532925199433,AUTHORITY[\"EPSG\",\"9122\"]],AUTHORITY[\"EPSG\",\"4326\"]],PROJECTION[\"Albers_Conic_Equal_Area\"],PARAMETER[\"latitude_of_center\",23],PARAMETER[\"longitude_of_center\",-96],PARAMETER[\"standard_parallel_1\",29.5],PARAMETER[\"standard_parallel_2\",45.5],PARAMETER[\"false_easting\",0],PARAMETER[\"false_northing\",0],UNIT[\"metre\",1,AUTHORITY[\"EPSG\",\"9001\"]],AXIS[\"Easting\",EAST],AXIS[\"Northing\",NORTH]]'\n",
    "resolution = 300\n",
    "resampling = \"near\"\n",
    "bounds = (-2361583.2255652365274727, 1242360.4432584622409195, -1646660.4594384517986327, 2455525.7292816736735404)\n",
    "padding = 200000\n",
    "\n",
    "refine_method = \"forest\""
   ]
  },
  {
   "cell_type": "code",
   "execution_count": null,
   "metadata": {},
   "outputs": [],
   "source": [
    "generate_layers(config_path, species_list_path, terrain_path, terrain_codes_path, species_range_folder,\n",
    "                    output_folder, crs, resolution, resampling, bounds, padding,\n",
    "                    refine_method)"
   ]
  }
 ],
 "metadata": {
  "kernelspec": {
   "display_name": "venv37",
   "language": "python",
   "name": "python3"
  },
  "language_info": {
   "codemirror_mode": {
    "name": "ipython",
    "version": 3
   },
   "file_extension": ".py",
   "mimetype": "text/x-python",
   "name": "python",
   "nbconvert_exporter": "python",
   "pygments_lexer": "ipython3",
   "version": "3.9.13"
  },
  "orig_nbformat": 4,
  "vscode": {
   "interpreter": {
    "hash": "788fc90b81460290997b965a508edfe8951a7807de397369836e3df353490b1b"
   }
  }
 },
 "nbformat": 4,
 "nbformat_minor": 2
}
