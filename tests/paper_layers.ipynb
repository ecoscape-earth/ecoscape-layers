{
 "cells": [
  {
   "cell_type": "markdown",
   "metadata": {},
   "source": [
    "# Generation of Habitat and Landcover Layers and Resistance Dictionaries\n",
    "\n",
    "This notebook generates the habitat layer, landcover layer, and resistance dictionary for each specified bird species based on data from the IUCN Red List and eBird, which are all needed as inputs to the main model. It uses the `ecoscape_layers` package; more information about usage and parameters can be found at https://github.com/ecoscape-earth/ecoscape-layers.\n",
    "\n",
    "At minimum, you will need:\n",
    "- API keys for:\n",
    "    - [the IUCN Red List](http://apiv3.iucnredlist.org/)\n",
    "    - [eBird](https://science.ebird.org/en/status-and-trends/download-data) (no need for the R package, just request an access key)\n",
    "- The 6-letter eBird code(s) for the bird species you are creating layers for. You can obtain these codes by looking up bird species on eBird and taking the last 6 letters of the species page's URL (such as \"acowoo\" from https://ebird.org/species/acowoo).\n",
    "- An initial landcover map. For EcoScape, we derive our map from the map `iucn_habitatclassification_composite_lvl2_ver004.zip` (cropped to the United States, which is our broad area of study) provided by [Jung et al.](https://zenodo.org/record/4058819)."
   ]
  },
  {
   "cell_type": "code",
   "execution_count": 1,
   "metadata": {},
   "outputs": [],
   "source": [
    "import os\n",
    "import shutil\n",
    "import math\n",
    "import rasterio.warp\n",
    "from rasterio import features\n",
    "from rasterio.crs import CRS\n",
    "from shapely.geometry import box\n",
    "from ecoscape_layers import LayerGenerator, warp, reproject_shapefile, make_dirs_for_file\n",
    "from scgt import *"
   ]
  },
  {
   "cell_type": "code",
   "execution_count": 2,
   "metadata": {},
   "outputs": [],
   "source": [
    "# Parent folders for data and inputs.\n",
    "DATA_PATH = \"./data\"\n",
    "INPUT_PATH = \"./inputs\"\n",
    "\n",
    "# API keys.\n",
    "REDLIST_KEY = input(\"IUCN Red List API key: \")\n",
    "EBIRD_KEY = input(\"EBird API key: \")\n",
    "\n",
    "# Global Jung et al. landcover layer:\n",
    "# https://zenodo.org/records/4058819\n",
    "landcover_fn = os.path.join(INPUT_PATH, \"iucn_habitatclassification_composite_lvl2_ver004.tif\")\n",
    "\n",
    "# Shapefile of US state boundaries, sourced from the U.S. Census Bureau:\n",
    "# https://catalog.data.gov/dataset/tiger-line-shapefile-current-nation-u-s-state-and-equivalent-entities\n",
    "# We use this to help obtain bounds for each state.\n",
    "states_fn = os.path.join(INPUT_PATH, \"tl_2023_us_state\")"
   ]
  },
  {
   "cell_type": "markdown",
   "metadata": {},
   "source": [
    "The given parameters specify the parameters used for the EcoScape paper results. You can change them as you see fit."
   ]
  },
  {
   "cell_type": "code",
   "execution_count": 3,
   "metadata": {},
   "outputs": [],
   "source": [
    "# Web Mercator projection.\n",
    "crs = '''\n",
    "PROJCS[\"WGS_1984_Web_Mercator_Auxiliary_Sphere\",GEOGCS[\"GCS_WGS_1984\",DATUM[\"D_WGS_1984\",SPHEROID[\"WGS_1984\",6378137.0,298.257223563]],PRIMEM[\"Greenwich\",0.0],UNIT[\"Degree\",0.0174532925199433]],PROJECTION[\"Mercator_Auxiliary_Sphere\"],PARAMETER[\"False_Easting\",0.0],PARAMETER[\"False_Northing\",0.0],PARAMETER[\"Central_Meridian\",0.0],PARAMETER[\"Standard_Parallel_1\",0.0],PARAMETER[\"Auxiliary_Sphere_Type\",0.0],UNIT[\"Meter\",1.0]]\n",
    "'''\n",
    "\n",
    "# Resample using nearest neighbor.\n",
    "resampling = \"near\"\n",
    "\n",
    "# Keep a 100 km padding around the state bounds.\n",
    "padding = 100000"
   ]
  },
  {
   "cell_type": "code",
   "execution_count": 4,
   "metadata": {},
   "outputs": [],
   "source": [
    "# State shapes reprojected to Web Mercator.\n",
    "states_shapes = reproject_shapefile(states_fn, crs)\n",
    "\n",
    "# Species and states for which we want to compute layers.\n",
    "species_states = {\n",
    "    'acowoo': ['AZ', 'CA', 'OR', 'NV', 'NM'],\n",
    "    'stejay': ['AZ', 'CA', 'UT', 'CO', 'OR', 'MT', 'ID', 'WY', 'NV', 'NM', 'WA'],\n",
    "    'pilwoo': ['NC', 'TN', 'AR', 'SC', 'GA', 'AL', 'MS', 'CA', 'OR', 'WA', 'ID', 'MT', 'ND', 'MN', 'WI', 'MI', 'NY', 'VT', 'ME', 'MA', 'PA', 'VA', 'WV', 'OH', 'IN', 'IL', 'IA', 'OK', 'TX', 'KS', 'MO', 'LA', 'FL'],\n",
    "}\n",
    "\n",
    "# We invert the above dict to map states to species, which is nicer for generating layers by state.\n",
    "states_species = {}\n",
    "for k,v in species_states.items():\n",
    "    for x in v:\n",
    "        states_species.setdefault(x, []).append(k)"
   ]
  },
  {
   "cell_type": "code",
   "execution_count": null,
   "metadata": {},
   "outputs": [],
   "source": [
    "# We iterate over each state and the state's species for which layers should be generated.\n",
    "for state, species_codes in states_species.items():\n",
    "    # We generate the terrain for this state just once in this path,\n",
    "    # and then copy it to the \"{species}/{state}\" folders as needed, e.g. to \"acowoo/US-CA\".\n",
    "    out_landcover_fn = os.path.join(DATA_PATH, \"Terrain\", f\"terrain_{state}.tif\")\n",
    "\n",
    "    # We get the bounds of the layers for the state based off of the state shape.\n",
    "    bounds = None\n",
    "    for s in states_shapes:\n",
    "        if s['properties']['STUSPS'] == state:\n",
    "            bounds = features.bounds(s['geometry'])\n",
    "            break\n",
    "    if bounds is None:\n",
    "        raise TypeError(f\"Could not find bounds for state {state}.\")\n",
    "\n",
    "    # The above bounds are found in Web Mercator.\n",
    "    # Mercator is a conformal projection where area/distance iss not preserved;\n",
    "    # rather, locations with latitude lat are expanded by a factor 1/cos(lat).\n",
    "    # So, to get a local resolution of around 300m, we convert the bounds to latitude\n",
    "    # and longitude and compute resolution as 300 / cos((lat_max + lat_min) / 2).\n",
    "    latlon_bounds = rasterio.warp.transform_geom(CRS.from_string(crs), CRS.from_epsg(4326), box(*bounds))\n",
    "    resolution = 300 / math.cos(math.radians((latlon_bounds['coordinates'][0][0][1] + latlon_bounds['coordinates'][0][1][1]) / 2))\n",
    "\n",
    "    # Make directories leading up to the terrain file location if needed,\n",
    "    # and then process the terrain layer so that it is projected and cropped as we want it.\n",
    "    make_dirs_for_file(out_landcover_fn)\n",
    "    warp(landcover_fn, out_landcover_fn, crs, resolution, bounds, padding, resampling)\n",
    "    layer_generator = LayerGenerator(redlist_key=REDLIST_KEY, landcover_fn=out_landcover_fn, ebird_key=EBIRD_KEY)\n",
    "\n",
    "    # Then, we generate the habitat layers and initial resistance csvs\n",
    "    # for each species in this state.\n",
    "    for species_code in species_codes:\n",
    "        habitat_fn = os.path.join(DATA_PATH, species_code, f\"US-{state}\", \"habitat.tif\")\n",
    "        resistance_dict_fn = os.path.join(DATA_PATH, species_code, f\"US-{state}\", \"resistance.csv\")\n",
    "        range_fn = os.path.join(DATA_PATH, species_code, \"range_map_2022.gpkg\")\n",
    "        range_src = \"ebird\"\n",
    "        refine_method = \"forest_add308\" if species_code == \"acowoo\" else \"forest\"\n",
    "\n",
    "        layer_generator.generate_habitat(species_code, habitat_fn, resistance_dict_fn, range_fn, range_src, refine_method)\n",
    "        shutil.copy(out_landcover_fn, os.path.join(DATA_PATH, species_code, f\"US-{state}\", \"terrain.tif\"))\n",
    "        shutil.copy(out_landcover_fn + \".aux.xml\", os.path.join(DATA_PATH, species_code, f\"US-{state}\", \"terrain.tif.aux.xml\"))"
   ]
  }
 ],
 "metadata": {
  "kernelspec": {
   "display_name": "venv37",
   "language": "python",
   "name": "python3"
  },
  "language_info": {
   "codemirror_mode": {
    "name": "ipython",
    "version": 3
   },
   "file_extension": ".py",
   "mimetype": "text/x-python",
   "name": "python",
   "nbconvert_exporter": "python",
   "pygments_lexer": "ipython3",
   "version": "3.11.9"
  },
  "orig_nbformat": 4,
  "vscode": {
   "interpreter": {
    "hash": "788fc90b81460290997b965a508edfe8951a7807de397369836e3df353490b1b"
   }
  }
 },
 "nbformat": 4,
 "nbformat_minor": 2
}
