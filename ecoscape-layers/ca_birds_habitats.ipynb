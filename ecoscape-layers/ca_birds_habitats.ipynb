{
 "cells": [
  {
   "cell_type": "code",
   "execution_count": 1,
   "metadata": {},
   "outputs": [
    {
     "name": "stderr",
     "output_type": "stream",
     "text": [
      "c:\\Users\\lawta\\anaconda3\\envs\\bird-mapping\\lib\\site-packages\\scipy\\__init__.py:146: UserWarning: A NumPy version >=1.16.5 and <1.23.0 is required for this version of SciPy (detected version 1.23.5\n",
      "  warnings.warn(f\"A NumPy version >={np_minversion} and <{np_maxversion}\"\n"
     ]
    }
   ],
   "source": [
    "import os\n",
    "import sys\n",
    "sys.path.append(os.path.dirname(sys.path[0]))\n",
    "\n",
    "from birdmaps.habitats import RedList, HabitatGenerator, reproject_shapefile\n",
    "from birdmaps.scgt import GeoTiff"
   ]
  },
  {
   "cell_type": "code",
   "execution_count": 2,
   "metadata": {},
   "outputs": [],
   "source": [
    "resolution = 300\n",
    "resampling = \"near\"\n",
    "crs = 'PROJCS[\"Albers_Conical_Equal_Area\",GEOGCS[\"WGS 84\",DATUM[\"WGS_1984\",SPHEROID[\"WGS 84\",6378137,298.257223563,AUTHORITY[\"EPSG\",\"7030\"]],AUTHORITY[\"EPSG\",\"6326\"]],PRIMEM[\"Greenwich\",0],UNIT[\"degree\",0.0174532925199433,AUTHORITY[\"EPSG\",\"9122\"]],AUTHORITY[\"EPSG\",\"4326\"]],PROJECTION[\"Albers_Conic_Equal_Area\"],PARAMETER[\"latitude_of_center\",23],PARAMETER[\"longitude_of_center\",-96],PARAMETER[\"standard_parallel_1\",29.5],PARAMETER[\"standard_parallel_2\",45.5],PARAMETER[\"false_easting\",0],PARAMETER[\"false_northing\",0],UNIT[\"metre\",1,AUTHORITY[\"EPSG\",\"9001\"]],AXIS[\"Easting\",EAST],AXIS[\"Northing\",NORTH]]'\n",
    "\n",
    "padding = 200000\n",
    "bounds = (-2361583.2255652365274727, 1242360.4432584622409195, -1646660.4594384517986327, 2455525.7292816736735404)\n",
    "\n",
    "refine_method = \"forest_add308\"\n",
    "reproject_inputs = False"
   ]
  },
  {
   "cell_type": "code",
   "execution_count": 3,
   "metadata": {},
   "outputs": [],
   "source": [
    "species_list_path = \"./inputs/species_list.txt\"\n",
    "terrain_path = \"./inputs/iucn_habclass_lvl2_us.tif\"\n",
    "terrain_codes_path = \"./inputs/iucn_habclass_lvl2_us_mapcodes.csv\"\n",
    "output_folder = \"./outputs\""
   ]
  },
  {
   "cell_type": "code",
   "execution_count": 4,
   "metadata": {},
   "outputs": [],
   "source": [
    "# Some file checks to catch bad parameters early on.\n",
    "\n",
    "assert os.path.isfile(terrain_path), \"invalid terrain_path\"\n",
    "assert os.path.isfile(species_list_path), \"invalid species_list_path\"\n",
    "if not reproject_inputs:\n",
    "    assert os.path.isfile(terrain_codes_path), \"terrain_codes_path does not exist; set reproject_inputs to True to generate\"\n",
    "else:\n",
    "    assert os.path.isdir(os.path.dirname(terrain_codes_path)), \"invalid terrain_codes_path\"\n",
    "assert resolution == None or isinstance(resolution, int), \"invalid resolution\"\n",
    "assert resampling in [\"near\", \"bilinear\", \"cubic\", \"cubicspline\", \"lanczos\", \"average\", \"rms\", \"mode\", \"max\", \"min\", \"med\", \"q1\", \"q3\", \"sum\"], \"invalid resampling\"\n",
    "assert os.path.isdir(output_folder), \"invalid output_folder\""
   ]
  },
  {
   "cell_type": "code",
   "execution_count": 5,
   "metadata": {},
   "outputs": [],
   "source": [
    "# Get the list of bird species from species_list_path\n",
    "with open(species_list_path) as file:\n",
    "    species_list = file.read().splitlines()\n",
    "\n",
    "terrain_path = os.path.abspath(terrain_path)\n",
    "terrain_codes_path = os.path.abspath(terrain_codes_path)\n",
    "\n",
    "# Generate species output folders\n",
    "for species in species_list:\n",
    "    species_output_folder = os.path.join(output_folder, species)\n",
    "    if not os.path.exists(species_output_folder):\n",
    "        os.makedirs(species_output_folder)\n",
    "\n",
    "# Specify eBird range file locations\n",
    "species_range_folder = \"./inputs/ebird_ranges\"\n",
    "indiv_range_path = \"./inputs/ebird_ranges/2020/{code}/ranges/{code}_range_smooth_mr_2020.gpkg\"\n",
    "indiv_range_layer = \"range\"\n",
    "\n",
    "# Create species output folder if it doesn't currently exist\n",
    "if not os.path.exists(species_output_folder):\n",
    "    os.makedirs(species_output_folder)"
   ]
  },
  {
   "cell_type": "code",
   "execution_count": 6,
   "metadata": {},
   "outputs": [],
   "source": [
    "redlist = RedList()\n",
    "habitat_generator = HabitatGenerator(\n",
    "    terrain_path=terrain_path,\n",
    "    terrain_codes_path=terrain_codes_path,\n",
    "    crs=crs,\n",
    "    resolution=resolution,\n",
    "    resampling=resampling,\n",
    ")"
   ]
  },
  {
   "cell_type": "code",
   "execution_count": 7,
   "metadata": {},
   "outputs": [],
   "source": [
    "# If specified, reproject and crop the input terrain.\n",
    "\n",
    "if reproject_inputs:\n",
    "    habitat_generator.reproject_terrain()\n",
    "    # Crop terrain if bounds are specified\n",
    "    if bounds is not None:\n",
    "        habitat_generator.crop_terrain(bounds=bounds, padding=padding)\n",
    "    habitat_generator.write_map_codes()\n",
    "    # Once it's done once, don't do it again\n",
    "    reproject_inputs = False"
   ]
  },
  {
   "cell_type": "code",
   "execution_count": 8,
   "metadata": {},
   "outputs": [],
   "source": [
    "# Obtain species habitat information from the IUCN Red List.\n",
    "\n",
    "species_data = []\n",
    "\n",
    "for species in species_list:\n",
    "    sci_name = redlist.get_scientific_name(species)\n",
    "    habs = redlist.get_habitats(sci_name)\n",
    "\n",
    "    # When eBird's scientific name differs from that on Red List, we manually correct it here\n",
    "    if species == \"whhwoo\":\n",
    "        sci_name = \"Leuconotopicus albolarvatus\"\n",
    "        habs = redlist.get_habitats(sci_name)\n",
    "    if species == \"yebmag\":\n",
    "        sci_name = \"Pica nutalli\"\n",
    "        habs = redlist.get_habitats(sci_name)\n",
    "\n",
    "    if len(habs) == 0:\n",
    "        print(\"Skipping\", species, \"due to not finding info on Red List (perhaps a name mismatch with eBird)?\")\n",
    "        continue\n",
    "    \n",
    "    data = {\n",
    "        \"name\": species,\n",
    "        \"sci_name\": sci_name,\n",
    "        \"habitats\": habs\n",
    "    }\n",
    "    species_data.append(data)"
   ]
  },
  {
   "cell_type": "code",
   "execution_count": 9,
   "metadata": {},
   "outputs": [],
   "source": [
    "# Download or extract species ranges as shapefiles from eBird or IUCN, depending on the specified range source.\n",
    "\n",
    "habitat_generator.get_ranges_from_ebird(species_list_path, species_range_folder)"
   ]
  },
  {
   "cell_type": "code",
   "execution_count": 10,
   "metadata": {},
   "outputs": [],
   "source": [
    "# Create the resistance table for each species.\n",
    "\n",
    "all_map_codes = habitat_generator.get_map_codes()\n",
    "for species in species_data:\n",
    "    code = species[\"name\"]\n",
    "    resistance_output_path = os.path.join(output_folder, code, \"resistance.csv\")\n",
    "    habitat_generator.generate_resistance_table(species[\"habitats\"], all_map_codes, resistance_output_path)"
   ]
  },
  {
   "cell_type": "code",
   "execution_count": 11,
   "metadata": {},
   "outputs": [
    {
     "name": "stdout",
     "output_type": "stream",
     "text": [
      "1. Refining acowoo\n",
      "2. Refining oaktit\n"
     ]
    }
   ],
   "source": [
    "# Perform the intersection between the range and habitable terrain.\n",
    "\n",
    "with GeoTiff.from_file(habitat_generator.terrain_path) as ter:\n",
    "    # In case resolution was initially marked as None\n",
    "    resolution = int(ter.dataset.transform[0])\n",
    "    \n",
    "    for i, species in enumerate(species_data):\n",
    "        if not os.path.isfile(indiv_range_path.format(code=species[\"name\"])):\n",
    "            print(\"{num}. Skipping {code}, no associated indiv_range_path found\".format(num=i+1, code=species[\"name\"]))\n",
    "            continue\n",
    "\n",
    "        print(\"{num}. Refining {code}\".format(num=i+1, code=species[\"name\"]))\n",
    "\n",
    "        code = species[\"name\"]\n",
    "\n",
    "        # Load the range shapes for the given species, and put them into the correct CRS\n",
    "        range_shapes = reproject_shapefile(\n",
    "            shapes_path=indiv_range_path.format(code=code),\n",
    "            dest_crs=crs,\n",
    "            shapes_layer=indiv_range_layer\n",
    "        )\n",
    "\n",
    "        # Depending on the length of range_shapes, determine if this is a seasonal bird.\n",
    "        if len(range_shapes) == 1:\n",
    "            # Not a seasonal bird\n",
    "            path = os.path.join(output_folder, code, f\"habitat_2020_{resolution}_{resampling}_{refine_method}.tif\")\n",
    "            habitat_generator.refine_habitat(ter=ter, species=species, shapes=range_shapes[0], output_path=path, refine_method=refine_method)\n",
    "        else:\n",
    "            # Seasonal bird, different output for each shape\n",
    "            for s in range_shapes:\n",
    "                season = str(s[\"properties\"][\"season\"])\n",
    "                path = os.path.join(output_folder, code, f\"{season}_habitat_2020_{resolution}_{resampling}_{refine_method}.tif\")\n",
    "                habitat_generator.refine_habitat(ter=ter, species=species, shapes=s, output_path=path, refine_method=refine_method)"
   ]
  }
 ],
 "metadata": {
  "kernelspec": {
   "display_name": "venv37",
   "language": "python",
   "name": "python3"
  },
  "language_info": {
   "codemirror_mode": {
    "name": "ipython",
    "version": 3
   },
   "file_extension": ".py",
   "mimetype": "text/x-python",
   "name": "python",
   "nbconvert_exporter": "python",
   "pygments_lexer": "ipython3",
   "version": "3.9.13"
  },
  "orig_nbformat": 4,
  "vscode": {
   "interpreter": {
    "hash": "788fc90b81460290997b965a508edfe8951a7807de397369836e3df353490b1b"
   }
  }
 },
 "nbformat": 4,
 "nbformat_minor": 2
}
