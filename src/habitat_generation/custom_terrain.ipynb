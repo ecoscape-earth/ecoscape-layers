{
 "cells": [
  {
   "cell_type": "code",
   "execution_count": 1,
   "metadata": {},
   "outputs": [
    {
     "name": "stderr",
     "output_type": "stream",
     "text": [
      "c:\\Users\\lawta\\anaconda3\\envs\\bird-mapping\\lib\\site-packages\\scipy\\__init__.py:146: UserWarning: A NumPy version >=1.16.5 and <1.23.0 is required for this version of SciPy (detected version 1.23.5\n",
      "  warnings.warn(f\"A NumPy version >={np_minversion} and <{np_maxversion}\"\n"
     ]
    }
   ],
   "source": [
    "import os\n",
    "import sys\n",
    "sys.path.append(os.path.dirname(sys.path[0]))\n",
    "\n",
    "from birdmaps.habitats import apply_custom_terrain"
   ]
  },
  {
   "cell_type": "code",
   "execution_count": 2,
   "metadata": {},
   "outputs": [],
   "source": [
    "apply_custom_terrain(terrain_path=\"./test_data/inputs/ter_300_near_cropped.tif\",\n",
    "    custom_terrain_shapes_path=\"./test_data/inputs/test.shp\",\n",
    "    output_path=\"./test_data/inputs/ter_300_near_cropped_custom.tif\"\n",
    ")"
   ]
  },
  {
   "cell_type": "code",
   "execution_count": 3,
   "metadata": {},
   "outputs": [],
   "source": [
    "apply_custom_terrain(terrain_path=\"./inputs/iucn_habclass_lvl2_us_300_near_cropped.tif\",\n",
    "    custom_terrain_shapes_path=\"./inputs/zdemcorridor.shp\",\n",
    "    output_path=\"./inputs/terrain_with_corridor.tif\"\n",
    ")"
   ]
  }
 ],
 "metadata": {
  "kernelspec": {
   "display_name": "bird-mapping",
   "language": "python",
   "name": "python3"
  },
  "language_info": {
   "codemirror_mode": {
    "name": "ipython",
    "version": 3
   },
   "file_extension": ".py",
   "mimetype": "text/x-python",
   "name": "python",
   "nbconvert_exporter": "python",
   "pygments_lexer": "ipython3",
   "version": "3.9.13"
  },
  "orig_nbformat": 4,
  "vscode": {
   "interpreter": {
    "hash": "d00ab2679a83fc68353fbd8551e8f3f1e854e02e20db6687fc7ad638c1cb25d6"
   }
  }
 },
 "nbformat": 4,
 "nbformat_minor": 2
}
